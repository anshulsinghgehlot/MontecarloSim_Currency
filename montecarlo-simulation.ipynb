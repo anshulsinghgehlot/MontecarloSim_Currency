{
 "cells": [
  {
   "cell_type": "code",
   "execution_count": 1,
   "id": "d3fd249c",
   "metadata": {
    "execution": {
     "iopub.execute_input": "2022-08-28T20:53:56.244827Z",
     "iopub.status.busy": "2022-08-28T20:53:56.244212Z",
     "iopub.status.idle": "2022-08-28T20:54:02.153058Z",
     "shell.execute_reply": "2022-08-28T20:54:02.151899Z"
    },
    "papermill": {
     "duration": 5.925744,
     "end_time": "2022-08-28T20:54:02.156109",
     "exception": false,
     "start_time": "2022-08-28T20:53:56.230365",
     "status": "completed"
    },
    "tags": []
   },
   "outputs": [],
   "source": [
    "import pandas as pd\n",
    "import numpy as np\n",
    "import matplotlib.pyplot as plt\n",
    "import seaborn as sns\n",
    "from scipy.stats import norm\n",
    "import tensorflow as tf\n",
    "%matplotlib inline"
   ]
  },
  {
   "cell_type": "code",
   "execution_count": 2,
   "id": "b4ed61ee",
   "metadata": {
    "execution": {
     "iopub.execute_input": "2022-08-28T20:54:02.178118Z",
     "iopub.status.busy": "2022-08-28T20:54:02.177431Z",
     "iopub.status.idle": "2022-08-28T20:54:02.219882Z",
     "shell.execute_reply": "2022-08-28T20:54:02.218565Z"
    },
    "papermill": {
     "duration": 0.057955,
     "end_time": "2022-08-28T20:54:02.224110",
     "exception": false,
     "start_time": "2022-08-28T20:54:02.166155",
     "status": "completed"
    },
    "tags": []
   },
   "outputs": [
    {
     "data": {
      "text/html": [
       "<div>\n",
       "<style scoped>\n",
       "    .dataframe tbody tr th:only-of-type {\n",
       "        vertical-align: middle;\n",
       "    }\n",
       "\n",
       "    .dataframe tbody tr th {\n",
       "        vertical-align: top;\n",
       "    }\n",
       "\n",
       "    .dataframe thead th {\n",
       "        text-align: right;\n",
       "    }\n",
       "</style>\n",
       "<table border=\"1\" class=\"dataframe\">\n",
       "  <thead>\n",
       "    <tr style=\"text-align: right;\">\n",
       "      <th></th>\n",
       "      <th>Date</th>\n",
       "      <th>Time</th>\n",
       "      <th>OpenBid</th>\n",
       "      <th>HighBid</th>\n",
       "      <th>LowBid</th>\n",
       "      <th>CloseBid</th>\n",
       "      <th>OpenAsk</th>\n",
       "      <th>HighAsk</th>\n",
       "      <th>LowAsk</th>\n",
       "      <th>CloseAsk</th>\n",
       "      <th>Total Ticks</th>\n",
       "    </tr>\n",
       "  </thead>\n",
       "  <tbody>\n",
       "    <tr>\n",
       "      <th>0</th>\n",
       "      <td>06/28/2021</td>\n",
       "      <td>05:00:00</td>\n",
       "      <td>1.19220</td>\n",
       "      <td>1.19283</td>\n",
       "      <td>1.19213</td>\n",
       "      <td>1.19253</td>\n",
       "      <td>1.19233</td>\n",
       "      <td>1.19294</td>\n",
       "      <td>1.19225</td>\n",
       "      <td>1.19266</td>\n",
       "      <td>3254</td>\n",
       "    </tr>\n",
       "    <tr>\n",
       "      <th>1</th>\n",
       "      <td>06/28/2021</td>\n",
       "      <td>06:00:00</td>\n",
       "      <td>1.19253</td>\n",
       "      <td>1.19330</td>\n",
       "      <td>1.19226</td>\n",
       "      <td>1.19302</td>\n",
       "      <td>1.19266</td>\n",
       "      <td>1.19343</td>\n",
       "      <td>1.19238</td>\n",
       "      <td>1.19314</td>\n",
       "      <td>7996</td>\n",
       "    </tr>\n",
       "    <tr>\n",
       "      <th>2</th>\n",
       "      <td>06/28/2021</td>\n",
       "      <td>07:00:00</td>\n",
       "      <td>1.19302</td>\n",
       "      <td>1.19440</td>\n",
       "      <td>1.19270</td>\n",
       "      <td>1.19412</td>\n",
       "      <td>1.19314</td>\n",
       "      <td>1.19453</td>\n",
       "      <td>1.19282</td>\n",
       "      <td>1.19423</td>\n",
       "      <td>12773</td>\n",
       "    </tr>\n",
       "    <tr>\n",
       "      <th>3</th>\n",
       "      <td>06/28/2021</td>\n",
       "      <td>08:00:00</td>\n",
       "      <td>1.19412</td>\n",
       "      <td>1.19424</td>\n",
       "      <td>1.19250</td>\n",
       "      <td>1.19408</td>\n",
       "      <td>1.19423</td>\n",
       "      <td>1.19436</td>\n",
       "      <td>1.19262</td>\n",
       "      <td>1.19422</td>\n",
       "      <td>11368</td>\n",
       "    </tr>\n",
       "    <tr>\n",
       "      <th>4</th>\n",
       "      <td>06/28/2021</td>\n",
       "      <td>09:00:00</td>\n",
       "      <td>1.19408</td>\n",
       "      <td>1.19434</td>\n",
       "      <td>1.19330</td>\n",
       "      <td>1.19366</td>\n",
       "      <td>1.19422</td>\n",
       "      <td>1.19446</td>\n",
       "      <td>1.19339</td>\n",
       "      <td>1.19378</td>\n",
       "      <td>8344</td>\n",
       "    </tr>\n",
       "  </tbody>\n",
       "</table>\n",
       "</div>"
      ],
      "text/plain": [
       "         Date      Time  OpenBid  HighBid   LowBid  CloseBid  OpenAsk  \\\n",
       "0  06/28/2021  05:00:00  1.19220  1.19283  1.19213   1.19253  1.19233   \n",
       "1  06/28/2021  06:00:00  1.19253  1.19330  1.19226   1.19302  1.19266   \n",
       "2  06/28/2021  07:00:00  1.19302  1.19440  1.19270   1.19412  1.19314   \n",
       "3  06/28/2021  08:00:00  1.19412  1.19424  1.19250   1.19408  1.19423   \n",
       "4  06/28/2021  09:00:00  1.19408  1.19434  1.19330   1.19366  1.19422   \n",
       "\n",
       "   HighAsk   LowAsk  CloseAsk  Total Ticks  \n",
       "0  1.19294  1.19225   1.19266         3254  \n",
       "1  1.19343  1.19238   1.19314         7996  \n",
       "2  1.19453  1.19282   1.19423        12773  \n",
       "3  1.19436  1.19262   1.19422        11368  \n",
       "4  1.19446  1.19339   1.19378         8344  "
      ]
     },
     "execution_count": 2,
     "metadata": {},
     "output_type": "execute_result"
    }
   ],
   "source": [
    "data = pd.read_csv(\"../input/eurousd-currency-data/EURUSD_augH1_BidAndAsk.csv\")\n",
    "data.head()"
   ]
  },
  {
   "cell_type": "code",
   "execution_count": 3,
   "id": "22ceeefb",
   "metadata": {
    "execution": {
     "iopub.execute_input": "2022-08-28T20:54:02.246145Z",
     "iopub.status.busy": "2022-08-28T20:54:02.245322Z",
     "iopub.status.idle": "2022-08-28T20:54:02.270760Z",
     "shell.execute_reply": "2022-08-28T20:54:02.269517Z"
    },
    "papermill": {
     "duration": 0.040455,
     "end_time": "2022-08-28T20:54:02.274340",
     "exception": false,
     "start_time": "2022-08-28T20:54:02.233885",
     "status": "completed"
    },
    "tags": []
   },
   "outputs": [
    {
     "name": "stdout",
     "output_type": "stream",
     "text": [
      "<class 'pandas.core.frame.DataFrame'>\n",
      "RangeIndex: 1091 entries, 0 to 1090\n",
      "Data columns (total 11 columns):\n",
      " #   Column       Non-Null Count  Dtype  \n",
      "---  ------       --------------  -----  \n",
      " 0   Date         1091 non-null   object \n",
      " 1   Time         1091 non-null   object \n",
      " 2   OpenBid      1091 non-null   float64\n",
      " 3   HighBid      1091 non-null   float64\n",
      " 4   LowBid       1091 non-null   float64\n",
      " 5   CloseBid     1091 non-null   float64\n",
      " 6   OpenAsk      1091 non-null   float64\n",
      " 7   HighAsk      1091 non-null   float64\n",
      " 8   LowAsk       1091 non-null   float64\n",
      " 9   CloseAsk     1091 non-null   float64\n",
      " 10  Total Ticks  1091 non-null   int64  \n",
      "dtypes: float64(8), int64(1), object(2)\n",
      "memory usage: 93.9+ KB\n"
     ]
    }
   ],
   "source": [
    "data.info()"
   ]
  },
  {
   "cell_type": "code",
   "execution_count": 4,
   "id": "990e0054",
   "metadata": {
    "execution": {
     "iopub.execute_input": "2022-08-28T20:54:02.297605Z",
     "iopub.status.busy": "2022-08-28T20:54:02.296864Z",
     "iopub.status.idle": "2022-08-28T20:54:02.336561Z",
     "shell.execute_reply": "2022-08-28T20:54:02.335674Z"
    },
    "papermill": {
     "duration": 0.053446,
     "end_time": "2022-08-28T20:54:02.338702",
     "exception": false,
     "start_time": "2022-08-28T20:54:02.285256",
     "status": "completed"
    },
    "tags": []
   },
   "outputs": [
    {
     "data": {
      "text/html": [
       "<div>\n",
       "<style scoped>\n",
       "    .dataframe tbody tr th:only-of-type {\n",
       "        vertical-align: middle;\n",
       "    }\n",
       "\n",
       "    .dataframe tbody tr th {\n",
       "        vertical-align: top;\n",
       "    }\n",
       "\n",
       "    .dataframe thead th {\n",
       "        text-align: right;\n",
       "    }\n",
       "</style>\n",
       "<table border=\"1\" class=\"dataframe\">\n",
       "  <thead>\n",
       "    <tr style=\"text-align: right;\">\n",
       "      <th></th>\n",
       "      <th>OpenBid</th>\n",
       "      <th>HighBid</th>\n",
       "      <th>LowBid</th>\n",
       "      <th>CloseBid</th>\n",
       "      <th>OpenAsk</th>\n",
       "      <th>HighAsk</th>\n",
       "      <th>LowAsk</th>\n",
       "      <th>CloseAsk</th>\n",
       "      <th>Total Ticks</th>\n",
       "    </tr>\n",
       "  </thead>\n",
       "  <tbody>\n",
       "    <tr>\n",
       "      <th>count</th>\n",
       "      <td>1091.000000</td>\n",
       "      <td>1091.000000</td>\n",
       "      <td>1091.000000</td>\n",
       "      <td>1091.000000</td>\n",
       "      <td>1091.00000</td>\n",
       "      <td>1091.000000</td>\n",
       "      <td>1091.000000</td>\n",
       "      <td>1091.000000</td>\n",
       "      <td>1091.000000</td>\n",
       "    </tr>\n",
       "    <tr>\n",
       "      <th>mean</th>\n",
       "      <td>1.180205</td>\n",
       "      <td>1.180709</td>\n",
       "      <td>1.179680</td>\n",
       "      <td>1.180194</td>\n",
       "      <td>1.18036</td>\n",
       "      <td>1.180856</td>\n",
       "      <td>1.179828</td>\n",
       "      <td>1.180349</td>\n",
       "      <td>6710.762603</td>\n",
       "    </tr>\n",
       "    <tr>\n",
       "      <th>std</th>\n",
       "      <td>0.005926</td>\n",
       "      <td>0.005932</td>\n",
       "      <td>0.005892</td>\n",
       "      <td>0.005915</td>\n",
       "      <td>0.00593</td>\n",
       "      <td>0.005934</td>\n",
       "      <td>0.005896</td>\n",
       "      <td>0.005919</td>\n",
       "      <td>5923.390151</td>\n",
       "    </tr>\n",
       "    <tr>\n",
       "      <th>min</th>\n",
       "      <td>1.166770</td>\n",
       "      <td>1.167460</td>\n",
       "      <td>1.166340</td>\n",
       "      <td>1.166770</td>\n",
       "      <td>1.16689</td>\n",
       "      <td>1.167590</td>\n",
       "      <td>1.166450</td>\n",
       "      <td>1.166890</td>\n",
       "      <td>1.000000</td>\n",
       "    </tr>\n",
       "    <tr>\n",
       "      <th>25%</th>\n",
       "      <td>1.175855</td>\n",
       "      <td>1.176325</td>\n",
       "      <td>1.175360</td>\n",
       "      <td>1.175855</td>\n",
       "      <td>1.17602</td>\n",
       "      <td>1.176465</td>\n",
       "      <td>1.175510</td>\n",
       "      <td>1.176020</td>\n",
       "      <td>2789.000000</td>\n",
       "    </tr>\n",
       "    <tr>\n",
       "      <th>50%</th>\n",
       "      <td>1.180030</td>\n",
       "      <td>1.180550</td>\n",
       "      <td>1.179520</td>\n",
       "      <td>1.180010</td>\n",
       "      <td>1.18023</td>\n",
       "      <td>1.180660</td>\n",
       "      <td>1.179710</td>\n",
       "      <td>1.180220</td>\n",
       "      <td>5183.000000</td>\n",
       "    </tr>\n",
       "    <tr>\n",
       "      <th>75%</th>\n",
       "      <td>1.185020</td>\n",
       "      <td>1.185680</td>\n",
       "      <td>1.184510</td>\n",
       "      <td>1.184980</td>\n",
       "      <td>1.18517</td>\n",
       "      <td>1.185810</td>\n",
       "      <td>1.184635</td>\n",
       "      <td>1.185145</td>\n",
       "      <td>9009.500000</td>\n",
       "    </tr>\n",
       "    <tr>\n",
       "      <th>max</th>\n",
       "      <td>1.194120</td>\n",
       "      <td>1.194400</td>\n",
       "      <td>1.193370</td>\n",
       "      <td>1.194120</td>\n",
       "      <td>1.19423</td>\n",
       "      <td>1.194530</td>\n",
       "      <td>1.193490</td>\n",
       "      <td>1.194230</td>\n",
       "      <td>66897.000000</td>\n",
       "    </tr>\n",
       "  </tbody>\n",
       "</table>\n",
       "</div>"
      ],
      "text/plain": [
       "           OpenBid      HighBid       LowBid     CloseBid     OpenAsk  \\\n",
       "count  1091.000000  1091.000000  1091.000000  1091.000000  1091.00000   \n",
       "mean      1.180205     1.180709     1.179680     1.180194     1.18036   \n",
       "std       0.005926     0.005932     0.005892     0.005915     0.00593   \n",
       "min       1.166770     1.167460     1.166340     1.166770     1.16689   \n",
       "25%       1.175855     1.176325     1.175360     1.175855     1.17602   \n",
       "50%       1.180030     1.180550     1.179520     1.180010     1.18023   \n",
       "75%       1.185020     1.185680     1.184510     1.184980     1.18517   \n",
       "max       1.194120     1.194400     1.193370     1.194120     1.19423   \n",
       "\n",
       "           HighAsk       LowAsk     CloseAsk   Total Ticks  \n",
       "count  1091.000000  1091.000000  1091.000000   1091.000000  \n",
       "mean      1.180856     1.179828     1.180349   6710.762603  \n",
       "std       0.005934     0.005896     0.005919   5923.390151  \n",
       "min       1.167590     1.166450     1.166890      1.000000  \n",
       "25%       1.176465     1.175510     1.176020   2789.000000  \n",
       "50%       1.180660     1.179710     1.180220   5183.000000  \n",
       "75%       1.185810     1.184635     1.185145   9009.500000  \n",
       "max       1.194530     1.193490     1.194230  66897.000000  "
      ]
     },
     "execution_count": 4,
     "metadata": {},
     "output_type": "execute_result"
    }
   ],
   "source": [
    "data.describe()"
   ]
  },
  {
   "cell_type": "code",
   "execution_count": 5,
   "id": "09a7ffc6",
   "metadata": {
    "execution": {
     "iopub.execute_input": "2022-08-28T20:54:02.362721Z",
     "iopub.status.busy": "2022-08-28T20:54:02.362083Z",
     "iopub.status.idle": "2022-08-28T20:54:02.387872Z",
     "shell.execute_reply": "2022-08-28T20:54:02.387023Z"
    },
    "papermill": {
     "duration": 0.039924,
     "end_time": "2022-08-28T20:54:02.389979",
     "exception": false,
     "start_time": "2022-08-28T20:54:02.350055",
     "status": "completed"
    },
    "tags": []
   },
   "outputs": [
    {
     "data": {
      "text/html": [
       "<div>\n",
       "<style scoped>\n",
       "    .dataframe tbody tr th:only-of-type {\n",
       "        vertical-align: middle;\n",
       "    }\n",
       "\n",
       "    .dataframe tbody tr th {\n",
       "        vertical-align: top;\n",
       "    }\n",
       "\n",
       "    .dataframe thead th {\n",
       "        text-align: right;\n",
       "    }\n",
       "</style>\n",
       "<table border=\"1\" class=\"dataframe\">\n",
       "  <thead>\n",
       "    <tr style=\"text-align: right;\">\n",
       "      <th></th>\n",
       "      <th>Date</th>\n",
       "      <th>Time</th>\n",
       "      <th>OpenBid</th>\n",
       "      <th>HighBid</th>\n",
       "      <th>LowBid</th>\n",
       "      <th>CloseBid</th>\n",
       "      <th>OpenAsk</th>\n",
       "      <th>HighAsk</th>\n",
       "      <th>LowAsk</th>\n",
       "      <th>CloseAsk</th>\n",
       "      <th>Total Ticks</th>\n",
       "      <th>log_returns</th>\n",
       "    </tr>\n",
       "  </thead>\n",
       "  <tbody>\n",
       "    <tr>\n",
       "      <th>991</th>\n",
       "      <td>08/24/2021</td>\n",
       "      <td>04:00:00</td>\n",
       "      <td>1.17373</td>\n",
       "      <td>1.17407</td>\n",
       "      <td>1.17366</td>\n",
       "      <td>1.17406</td>\n",
       "      <td>1.17384</td>\n",
       "      <td>1.17420</td>\n",
       "      <td>1.17379</td>\n",
       "      <td>1.17420</td>\n",
       "      <td>1082</td>\n",
       "      <td>0.000281</td>\n",
       "    </tr>\n",
       "    <tr>\n",
       "      <th>992</th>\n",
       "      <td>08/24/2021</td>\n",
       "      <td>05:00:00</td>\n",
       "      <td>1.17406</td>\n",
       "      <td>1.17454</td>\n",
       "      <td>1.17401</td>\n",
       "      <td>1.17404</td>\n",
       "      <td>1.17420</td>\n",
       "      <td>1.17466</td>\n",
       "      <td>1.17410</td>\n",
       "      <td>1.17418</td>\n",
       "      <td>3667</td>\n",
       "      <td>-0.000017</td>\n",
       "    </tr>\n",
       "    <tr>\n",
       "      <th>993</th>\n",
       "      <td>08/24/2021</td>\n",
       "      <td>06:00:00</td>\n",
       "      <td>1.17404</td>\n",
       "      <td>1.17463</td>\n",
       "      <td>1.17382</td>\n",
       "      <td>1.17390</td>\n",
       "      <td>1.17418</td>\n",
       "      <td>1.17475</td>\n",
       "      <td>1.17394</td>\n",
       "      <td>1.17402</td>\n",
       "      <td>6501</td>\n",
       "      <td>-0.000119</td>\n",
       "    </tr>\n",
       "    <tr>\n",
       "      <th>994</th>\n",
       "      <td>08/24/2021</td>\n",
       "      <td>07:00:00</td>\n",
       "      <td>1.17390</td>\n",
       "      <td>1.17445</td>\n",
       "      <td>1.17324</td>\n",
       "      <td>1.17377</td>\n",
       "      <td>1.17402</td>\n",
       "      <td>1.17457</td>\n",
       "      <td>1.17337</td>\n",
       "      <td>1.17389</td>\n",
       "      <td>7928</td>\n",
       "      <td>-0.000111</td>\n",
       "    </tr>\n",
       "    <tr>\n",
       "      <th>995</th>\n",
       "      <td>08/24/2021</td>\n",
       "      <td>08:00:00</td>\n",
       "      <td>1.17377</td>\n",
       "      <td>1.17410</td>\n",
       "      <td>1.17266</td>\n",
       "      <td>1.17280</td>\n",
       "      <td>1.17389</td>\n",
       "      <td>1.17423</td>\n",
       "      <td>1.17279</td>\n",
       "      <td>1.17291</td>\n",
       "      <td>8183</td>\n",
       "      <td>-0.000827</td>\n",
       "    </tr>\n",
       "    <tr>\n",
       "      <th>...</th>\n",
       "      <td>...</td>\n",
       "      <td>...</td>\n",
       "      <td>...</td>\n",
       "      <td>...</td>\n",
       "      <td>...</td>\n",
       "      <td>...</td>\n",
       "      <td>...</td>\n",
       "      <td>...</td>\n",
       "      <td>...</td>\n",
       "      <td>...</td>\n",
       "      <td>...</td>\n",
       "      <td>...</td>\n",
       "    </tr>\n",
       "    <tr>\n",
       "      <th>1086</th>\n",
       "      <td>08/30/2021</td>\n",
       "      <td>01:00:00</td>\n",
       "      <td>1.18042</td>\n",
       "      <td>1.18075</td>\n",
       "      <td>1.18021</td>\n",
       "      <td>1.18058</td>\n",
       "      <td>1.18054</td>\n",
       "      <td>1.18088</td>\n",
       "      <td>1.18032</td>\n",
       "      <td>1.18069</td>\n",
       "      <td>4324</td>\n",
       "      <td>0.000136</td>\n",
       "    </tr>\n",
       "    <tr>\n",
       "      <th>1087</th>\n",
       "      <td>08/30/2021</td>\n",
       "      <td>02:00:00</td>\n",
       "      <td>1.18058</td>\n",
       "      <td>1.18094</td>\n",
       "      <td>1.18042</td>\n",
       "      <td>1.18050</td>\n",
       "      <td>1.18069</td>\n",
       "      <td>1.18106</td>\n",
       "      <td>1.18054</td>\n",
       "      <td>1.18062</td>\n",
       "      <td>4375</td>\n",
       "      <td>-0.000068</td>\n",
       "    </tr>\n",
       "    <tr>\n",
       "      <th>1088</th>\n",
       "      <td>08/30/2021</td>\n",
       "      <td>03:00:00</td>\n",
       "      <td>1.18050</td>\n",
       "      <td>1.18077</td>\n",
       "      <td>1.18019</td>\n",
       "      <td>1.18035</td>\n",
       "      <td>1.18062</td>\n",
       "      <td>1.18088</td>\n",
       "      <td>1.18032</td>\n",
       "      <td>1.18048</td>\n",
       "      <td>2453</td>\n",
       "      <td>-0.000127</td>\n",
       "    </tr>\n",
       "    <tr>\n",
       "      <th>1089</th>\n",
       "      <td>08/30/2021</td>\n",
       "      <td>04:00:00</td>\n",
       "      <td>1.18035</td>\n",
       "      <td>1.18067</td>\n",
       "      <td>1.18021</td>\n",
       "      <td>1.18031</td>\n",
       "      <td>1.18048</td>\n",
       "      <td>1.18079</td>\n",
       "      <td>1.18033</td>\n",
       "      <td>1.18043</td>\n",
       "      <td>1656</td>\n",
       "      <td>-0.000034</td>\n",
       "    </tr>\n",
       "    <tr>\n",
       "      <th>1090</th>\n",
       "      <td>08/30/2021</td>\n",
       "      <td>05:00:00</td>\n",
       "      <td>1.18031</td>\n",
       "      <td>1.18047</td>\n",
       "      <td>1.17987</td>\n",
       "      <td>1.17989</td>\n",
       "      <td>1.18043</td>\n",
       "      <td>1.18059</td>\n",
       "      <td>1.17999</td>\n",
       "      <td>1.18001</td>\n",
       "      <td>2317</td>\n",
       "      <td>-0.000356</td>\n",
       "    </tr>\n",
       "  </tbody>\n",
       "</table>\n",
       "<p>100 rows × 12 columns</p>\n",
       "</div>"
      ],
      "text/plain": [
       "            Date      Time  OpenBid  HighBid   LowBid  CloseBid  OpenAsk  \\\n",
       "991   08/24/2021  04:00:00  1.17373  1.17407  1.17366   1.17406  1.17384   \n",
       "992   08/24/2021  05:00:00  1.17406  1.17454  1.17401   1.17404  1.17420   \n",
       "993   08/24/2021  06:00:00  1.17404  1.17463  1.17382   1.17390  1.17418   \n",
       "994   08/24/2021  07:00:00  1.17390  1.17445  1.17324   1.17377  1.17402   \n",
       "995   08/24/2021  08:00:00  1.17377  1.17410  1.17266   1.17280  1.17389   \n",
       "...          ...       ...      ...      ...      ...       ...      ...   \n",
       "1086  08/30/2021  01:00:00  1.18042  1.18075  1.18021   1.18058  1.18054   \n",
       "1087  08/30/2021  02:00:00  1.18058  1.18094  1.18042   1.18050  1.18069   \n",
       "1088  08/30/2021  03:00:00  1.18050  1.18077  1.18019   1.18035  1.18062   \n",
       "1089  08/30/2021  04:00:00  1.18035  1.18067  1.18021   1.18031  1.18048   \n",
       "1090  08/30/2021  05:00:00  1.18031  1.18047  1.17987   1.17989  1.18043   \n",
       "\n",
       "      HighAsk   LowAsk  CloseAsk  Total Ticks  log_returns  \n",
       "991   1.17420  1.17379   1.17420         1082     0.000281  \n",
       "992   1.17466  1.17410   1.17418         3667    -0.000017  \n",
       "993   1.17475  1.17394   1.17402         6501    -0.000119  \n",
       "994   1.17457  1.17337   1.17389         7928    -0.000111  \n",
       "995   1.17423  1.17279   1.17291         8183    -0.000827  \n",
       "...       ...      ...       ...          ...          ...  \n",
       "1086  1.18088  1.18032   1.18069         4324     0.000136  \n",
       "1087  1.18106  1.18054   1.18062         4375    -0.000068  \n",
       "1088  1.18088  1.18032   1.18048         2453    -0.000127  \n",
       "1089  1.18079  1.18033   1.18043         1656    -0.000034  \n",
       "1090  1.18059  1.17999   1.18001         2317    -0.000356  \n",
       "\n",
       "[100 rows x 12 columns]"
      ]
     },
     "execution_count": 5,
     "metadata": {},
     "output_type": "execute_result"
    }
   ],
   "source": [
    "data[\"log_returns\"] = np.log(1+data[\"CloseBid\"].pct_change())\n",
    "data.tail(100)"
   ]
  },
  {
   "cell_type": "code",
   "execution_count": 6,
   "id": "169cc5c2",
   "metadata": {
    "execution": {
     "iopub.execute_input": "2022-08-28T20:54:02.413557Z",
     "iopub.status.busy": "2022-08-28T20:54:02.412898Z",
     "iopub.status.idle": "2022-08-28T20:54:02.820429Z",
     "shell.execute_reply": "2022-08-28T20:54:02.819292Z"
    },
    "papermill": {
     "duration": 0.422535,
     "end_time": "2022-08-28T20:54:02.823292",
     "exception": false,
     "start_time": "2022-08-28T20:54:02.400757",
     "status": "completed"
    },
    "tags": []
   },
   "outputs": [
    {
     "data": {
      "text/plain": [
       "<AxesSubplot:>"
      ]
     },
     "execution_count": 6,
     "metadata": {},
     "output_type": "execute_result"
    },
    {
     "data": {
      "image/png": "[encoded data removed]",
      "text/plain": [
       "<Figure size 720x432 with 1 Axes>"
      ]
     },
     "metadata": {
      "needs_background": "light"
     },
     "output_type": "display_data"
    }
   ],
   "source": [
    "data[\"CloseBid\"].plot(figsize=(10,6))"
   ]
  },
  {
   "cell_type": "code",
   "execution_count": 7,
   "id": "66d436d1",
   "metadata": {
    "execution": {
     "iopub.execute_input": "2022-08-28T20:54:02.848831Z",
     "iopub.status.busy": "2022-08-28T20:54:02.847850Z",
     "iopub.status.idle": "2022-08-28T20:54:03.095299Z",
     "shell.execute_reply": "2022-08-28T20:54:03.094450Z"
    },
    "papermill": {
     "duration": 0.26256,
     "end_time": "2022-08-28T20:54:03.097347",
     "exception": false,
     "start_time": "2022-08-28T20:54:02.834787",
     "status": "completed"
    },
    "tags": []
   },
   "outputs": [
    {
     "data": {
      "text/plain": [
       "<AxesSubplot:>"
      ]
     },
     "execution_count": 7,
     "metadata": {},
     "output_type": "execute_result"
    },
    {
     "data": {
      "image/png": "[encoded data removed]",
      "text/plain": [
       "<Figure size 720x432 with 1 Axes>"
      ]
     },
     "metadata": {
      "needs_background": "light"
     },
     "output_type": "display_data"
    }
   ],
   "source": [
    "data[\"log_returns\"].plot(figsize=(10,6))"
   ]
  },
  {
   "cell_type": "code",
   "execution_count": 8,
   "id": "63c1bccc",
   "metadata": {
    "execution": {
     "iopub.execute_input": "2022-08-28T20:54:03.125337Z",
     "iopub.status.busy": "2022-08-28T20:54:03.124540Z",
     "iopub.status.idle": "2022-08-28T20:54:03.132158Z",
     "shell.execute_reply": "2022-08-28T20:54:03.131008Z"
    },
    "papermill": {
     "duration": 0.024348,
     "end_time": "2022-08-28T20:54:03.134396",
     "exception": false,
     "start_time": "2022-08-28T20:54:03.110048",
     "status": "completed"
    },
    "tags": []
   },
   "outputs": [
    {
     "data": {
      "text/plain": [
       "-9.776043030571396e-06"
      ]
     },
     "execution_count": 8,
     "metadata": {},
     "output_type": "execute_result"
    }
   ],
   "source": [
    "meanlr = data[\"log_returns\"].mean()\n",
    "meanlr"
   ]
  },
  {
   "cell_type": "code",
   "execution_count": null,
   "id": "19adcaf9",
   "metadata": {
    "papermill": {
     "duration": 0.012749,
     "end_time": "2022-08-28T20:54:03.159802",
     "exception": false,
     "start_time": "2022-08-28T20:54:03.147053",
     "status": "completed"
    },
    "tags": []
   },
   "outputs": [],
   "source": []
  },
  {
   "cell_type": "code",
   "execution_count": 9,
   "id": "e6c2bbf6",
   "metadata": {
    "execution": {
     "iopub.execute_input": "2022-08-28T20:54:03.186737Z",
     "iopub.status.busy": "2022-08-28T20:54:03.186036Z",
     "iopub.status.idle": "2022-08-28T20:54:03.225323Z",
     "shell.execute_reply": "2022-08-28T20:54:03.224170Z"
    },
    "papermill": {
     "duration": 0.055616,
     "end_time": "2022-08-28T20:54:03.227850",
     "exception": false,
     "start_time": "2022-08-28T20:54:03.172234",
     "status": "completed"
    },
    "tags": []
   },
   "outputs": [
    {
     "data": {
      "text/html": [
       "<div>\n",
       "<style scoped>\n",
       "    .dataframe tbody tr th:only-of-type {\n",
       "        vertical-align: middle;\n",
       "    }\n",
       "\n",
       "    .dataframe tbody tr th {\n",
       "        vertical-align: top;\n",
       "    }\n",
       "\n",
       "    .dataframe thead th {\n",
       "        text-align: right;\n",
       "    }\n",
       "</style>\n",
       "<table border=\"1\" class=\"dataframe\">\n",
       "  <thead>\n",
       "    <tr style=\"text-align: right;\">\n",
       "      <th></th>\n",
       "      <th>OpenBid</th>\n",
       "      <th>HighBid</th>\n",
       "      <th>LowBid</th>\n",
       "      <th>CloseBid</th>\n",
       "      <th>OpenAsk</th>\n",
       "      <th>HighAsk</th>\n",
       "      <th>LowAsk</th>\n",
       "      <th>CloseAsk</th>\n",
       "      <th>Total Ticks</th>\n",
       "      <th>log_returns</th>\n",
       "    </tr>\n",
       "  </thead>\n",
       "  <tbody>\n",
       "    <tr>\n",
       "      <th>count</th>\n",
       "      <td>1091.000000</td>\n",
       "      <td>1091.000000</td>\n",
       "      <td>1091.000000</td>\n",
       "      <td>1091.000000</td>\n",
       "      <td>1091.00000</td>\n",
       "      <td>1091.000000</td>\n",
       "      <td>1091.000000</td>\n",
       "      <td>1091.000000</td>\n",
       "      <td>1091.000000</td>\n",
       "      <td>1090.000000</td>\n",
       "    </tr>\n",
       "    <tr>\n",
       "      <th>mean</th>\n",
       "      <td>1.180205</td>\n",
       "      <td>1.180709</td>\n",
       "      <td>1.179680</td>\n",
       "      <td>1.180194</td>\n",
       "      <td>1.18036</td>\n",
       "      <td>1.180856</td>\n",
       "      <td>1.179828</td>\n",
       "      <td>1.180349</td>\n",
       "      <td>6710.762603</td>\n",
       "      <td>-0.000010</td>\n",
       "    </tr>\n",
       "    <tr>\n",
       "      <th>std</th>\n",
       "      <td>0.005926</td>\n",
       "      <td>0.005932</td>\n",
       "      <td>0.005892</td>\n",
       "      <td>0.005915</td>\n",
       "      <td>0.00593</td>\n",
       "      <td>0.005934</td>\n",
       "      <td>0.005896</td>\n",
       "      <td>0.005919</td>\n",
       "      <td>5923.390151</td>\n",
       "      <td>0.000609</td>\n",
       "    </tr>\n",
       "    <tr>\n",
       "      <th>min</th>\n",
       "      <td>1.166770</td>\n",
       "      <td>1.167460</td>\n",
       "      <td>1.166340</td>\n",
       "      <td>1.166770</td>\n",
       "      <td>1.16689</td>\n",
       "      <td>1.167590</td>\n",
       "      <td>1.166450</td>\n",
       "      <td>1.166890</td>\n",
       "      <td>1.000000</td>\n",
       "      <td>-0.004188</td>\n",
       "    </tr>\n",
       "    <tr>\n",
       "      <th>25%</th>\n",
       "      <td>1.175855</td>\n",
       "      <td>1.176325</td>\n",
       "      <td>1.175360</td>\n",
       "      <td>1.175855</td>\n",
       "      <td>1.17602</td>\n",
       "      <td>1.176465</td>\n",
       "      <td>1.175510</td>\n",
       "      <td>1.176020</td>\n",
       "      <td>2789.000000</td>\n",
       "      <td>-0.000311</td>\n",
       "    </tr>\n",
       "    <tr>\n",
       "      <th>50%</th>\n",
       "      <td>1.180030</td>\n",
       "      <td>1.180550</td>\n",
       "      <td>1.179520</td>\n",
       "      <td>1.180010</td>\n",
       "      <td>1.18023</td>\n",
       "      <td>1.180660</td>\n",
       "      <td>1.179710</td>\n",
       "      <td>1.180220</td>\n",
       "      <td>5183.000000</td>\n",
       "      <td>-0.000008</td>\n",
       "    </tr>\n",
       "    <tr>\n",
       "      <th>75%</th>\n",
       "      <td>1.185020</td>\n",
       "      <td>1.185680</td>\n",
       "      <td>1.184510</td>\n",
       "      <td>1.184980</td>\n",
       "      <td>1.18517</td>\n",
       "      <td>1.185810</td>\n",
       "      <td>1.184635</td>\n",
       "      <td>1.185145</td>\n",
       "      <td>9009.500000</td>\n",
       "      <td>0.000289</td>\n",
       "    </tr>\n",
       "    <tr>\n",
       "      <th>max</th>\n",
       "      <td>1.194120</td>\n",
       "      <td>1.194400</td>\n",
       "      <td>1.193370</td>\n",
       "      <td>1.194120</td>\n",
       "      <td>1.19423</td>\n",
       "      <td>1.194530</td>\n",
       "      <td>1.193490</td>\n",
       "      <td>1.194230</td>\n",
       "      <td>66897.000000</td>\n",
       "      <td>0.002897</td>\n",
       "    </tr>\n",
       "  </tbody>\n",
       "</table>\n",
       "</div>"
      ],
      "text/plain": [
       "           OpenBid      HighBid       LowBid     CloseBid     OpenAsk  \\\n",
       "count  1091.000000  1091.000000  1091.000000  1091.000000  1091.00000   \n",
       "mean      1.180205     1.180709     1.179680     1.180194     1.18036   \n",
       "std       0.005926     0.005932     0.005892     0.005915     0.00593   \n",
       "min       1.166770     1.167460     1.166340     1.166770     1.16689   \n",
       "25%       1.175855     1.176325     1.175360     1.175855     1.17602   \n",
       "50%       1.180030     1.180550     1.179520     1.180010     1.18023   \n",
       "75%       1.185020     1.185680     1.184510     1.184980     1.18517   \n",
       "max       1.194120     1.194400     1.193370     1.194120     1.19423   \n",
       "\n",
       "           HighAsk       LowAsk     CloseAsk   Total Ticks  log_returns  \n",
       "count  1091.000000  1091.000000  1091.000000   1091.000000  1090.000000  \n",
       "mean      1.180856     1.179828     1.180349   6710.762603    -0.000010  \n",
       "std       0.005934     0.005896     0.005919   5923.390151     0.000609  \n",
       "min       1.167590     1.166450     1.166890      1.000000    -0.004188  \n",
       "25%       1.176465     1.175510     1.176020   2789.000000    -0.000311  \n",
       "50%       1.180660     1.179710     1.180220   5183.000000    -0.000008  \n",
       "75%       1.185810     1.184635     1.185145   9009.500000     0.000289  \n",
       "max       1.194530     1.193490     1.194230  66897.000000     0.002897  "
      ]
     },
     "execution_count": 9,
     "metadata": {},
     "output_type": "execute_result"
    }
   ],
   "source": [
    "data.describe()"
   ]
  },
  {
   "cell_type": "code",
   "execution_count": 10,
   "id": "b02682a0",
   "metadata": {
    "execution": {
     "iopub.execute_input": "2022-08-28T20:54:03.256206Z",
     "iopub.status.busy": "2022-08-28T20:54:03.255408Z",
     "iopub.status.idle": "2022-08-28T20:54:03.263134Z",
     "shell.execute_reply": "2022-08-28T20:54:03.262239Z"
    },
    "papermill": {
     "duration": 0.024218,
     "end_time": "2022-08-28T20:54:03.265371",
     "exception": false,
     "start_time": "2022-08-28T20:54:03.241153",
     "status": "completed"
    },
    "tags": []
   },
   "outputs": [
    {
     "data": {
      "text/plain": [
       "3.7139302374728243e-07"
      ]
     },
     "execution_count": 10,
     "metadata": {},
     "output_type": "execute_result"
    }
   ],
   "source": [
    "varlr = data[\"log_returns\"].var()\n",
    "varlr"
   ]
  },
  {
   "cell_type": "code",
   "execution_count": 11,
   "id": "989c92f2",
   "metadata": {
    "execution": {
     "iopub.execute_input": "2022-08-28T20:54:03.293333Z",
     "iopub.status.busy": "2022-08-28T20:54:03.292534Z",
     "iopub.status.idle": "2022-08-28T20:54:03.299898Z",
     "shell.execute_reply": "2022-08-28T20:54:03.298754Z"
    },
    "papermill": {
     "duration": 0.024229,
     "end_time": "2022-08-28T20:54:03.302357",
     "exception": false,
     "start_time": "2022-08-28T20:54:03.278128",
     "status": "completed"
    },
    "tags": []
   },
   "outputs": [
    {
     "data": {
      "text/plain": [
       "-9.961739542445037e-06"
      ]
     },
     "execution_count": 11,
     "metadata": {},
     "output_type": "execute_result"
    }
   ],
   "source": [
    "drift = meanlr - (0.5*varlr)\n",
    "drift"
   ]
  },
  {
   "cell_type": "code",
   "execution_count": 12,
   "id": "816e77ee",
   "metadata": {
    "execution": {
     "iopub.execute_input": "2022-08-28T20:54:03.330518Z",
     "iopub.status.busy": "2022-08-28T20:54:03.329735Z",
     "iopub.status.idle": "2022-08-28T20:54:03.337446Z",
     "shell.execute_reply": "2022-08-28T20:54:03.336575Z"
    },
    "papermill": {
     "duration": 0.024447,
     "end_time": "2022-08-28T20:54:03.339755",
     "exception": false,
     "start_time": "2022-08-28T20:54:03.315308",
     "status": "completed"
    },
    "tags": []
   },
   "outputs": [
    {
     "data": {
      "text/plain": [
       "0.000609420235754674"
      ]
     },
     "execution_count": 12,
     "metadata": {},
     "output_type": "execute_result"
    }
   ],
   "source": [
    "stdlr = data[\"log_returns\"].std()\n",
    "stdlr"
   ]
  },
  {
   "cell_type": "code",
   "execution_count": 13,
   "id": "8299830e",
   "metadata": {
    "execution": {
     "iopub.execute_input": "2022-08-28T20:54:03.367736Z",
     "iopub.status.busy": "2022-08-28T20:54:03.366572Z",
     "iopub.status.idle": "2022-08-28T20:54:03.371982Z",
     "shell.execute_reply": "2022-08-28T20:54:03.371225Z"
    },
    "papermill": {
     "duration": 0.021728,
     "end_time": "2022-08-28T20:54:03.374273",
     "exception": false,
     "start_time": "2022-08-28T20:54:03.352545",
     "status": "completed"
    },
    "tags": []
   },
   "outputs": [],
   "source": [
    "time_interval = 30\n",
    "iteration = 10"
   ]
  },
  {
   "cell_type": "code",
   "execution_count": 14,
   "id": "0b80855e",
   "metadata": {
    "execution": {
     "iopub.execute_input": "2022-08-28T20:54:03.401825Z",
     "iopub.status.busy": "2022-08-28T20:54:03.401362Z",
     "iopub.status.idle": "2022-08-28T20:54:03.409057Z",
     "shell.execute_reply": "2022-08-28T20:54:03.408180Z"
    },
    "papermill": {
     "duration": 0.024146,
     "end_time": "2022-08-28T20:54:03.411245",
     "exception": false,
     "start_time": "2022-08-28T20:54:03.387099",
     "status": "completed"
    },
    "tags": []
   },
   "outputs": [
    {
     "data": {
      "text/plain": [
       "1.959963984540054"
      ]
     },
     "execution_count": 14,
     "metadata": {},
     "output_type": "execute_result"
    }
   ],
   "source": [
    "w = norm.ppf(.975)\n",
    "w"
   ]
  },
  {
   "cell_type": "code",
   "execution_count": 15,
   "id": "20419e01",
   "metadata": {
    "execution": {
     "iopub.execute_input": "2022-08-28T20:54:03.439206Z",
     "iopub.status.busy": "2022-08-28T20:54:03.438408Z",
     "iopub.status.idle": "2022-08-28T20:54:03.445468Z",
     "shell.execute_reply": "2022-08-28T20:54:03.444674Z"
    },
    "papermill": {
     "duration": 0.023599,
     "end_time": "2022-08-28T20:54:03.447680",
     "exception": false,
     "start_time": "2022-08-28T20:54:03.424081",
     "status": "completed"
    },
    "tags": []
   },
   "outputs": [
    {
     "data": {
      "text/plain": [
       "1.0011851817474424"
      ]
     },
     "execution_count": 15,
     "metadata": {},
     "output_type": "execute_result"
    }
   ],
   "source": [
    "dailyreturn95ci = np.exp(drift + (stdlr*w))\n",
    "dailyreturn95ci"
   ]
  },
  {
   "cell_type": "markdown",
   "id": "e46edb19",
   "metadata": {
    "papermill": {
     "duration": 0.012594,
     "end_time": "2022-08-28T20:54:03.472974",
     "exception": false,
     "start_time": "2022-08-28T20:54:03.460380",
     "status": "completed"
    },
    "tags": []
   },
   "source": [
    "# Different confidence interval for the z-score i.e. 'critical value'"
   ]
  },
  {
   "cell_type": "code",
   "execution_count": 16,
   "id": "d560767c",
   "metadata": {
    "execution": {
     "iopub.execute_input": "2022-08-28T20:54:03.501767Z",
     "iopub.status.busy": "2022-08-28T20:54:03.500954Z",
     "iopub.status.idle": "2022-08-28T20:54:03.509341Z",
     "shell.execute_reply": "2022-08-28T20:54:03.508468Z"
    },
    "papermill": {
     "duration": 0.025514,
     "end_time": "2022-08-28T20:54:03.511589",
     "exception": false,
     "start_time": "2022-08-28T20:54:03.486075",
     "status": "completed"
    },
    "tags": []
   },
   "outputs": [
    {
     "data": {
      "text/plain": [
       "array([[0.36347899, 0.11415964, 0.15249899, 0.28401711, 0.41134623,\n",
       "        0.23300174, 0.83943713, 0.91240928, 0.80290957, 0.6063831 ],\n",
       "       [0.98703949, 0.66085016, 0.98333657, 0.61917713, 0.70420594,\n",
       "        0.81650441, 0.40335522, 0.45545373, 0.36799269, 0.24940647],\n",
       "       [0.51394165, 0.094052  , 0.75336749, 0.39198542, 0.56526879,\n",
       "        0.05334754, 0.46493535, 0.10579663, 0.1066745 , 0.95969329],\n",
       "       [0.85992991, 0.45387297, 0.83459652, 0.45838177, 0.77272827,\n",
       "        0.4410512 , 0.71661006, 0.3980824 , 0.00181497, 0.00232801],\n",
       "       [0.75323078, 0.57868274, 0.96167589, 0.10441404, 0.97022659,\n",
       "        0.71288648, 0.48059836, 0.30936406, 0.06866365, 0.34248892],\n",
       "       [0.66207546, 0.84682741, 0.12363925, 0.31477838, 0.23375405,\n",
       "        0.99573336, 0.24980322, 0.46568123, 0.92507898, 0.5176825 ],\n",
       "       [0.84964227, 0.34017971, 0.88948601, 0.77497482, 0.67515915,\n",
       "        0.63699747, 0.73902356, 0.23957712, 0.5078382 , 0.1741232 ],\n",
       "       [0.11097872, 0.70299425, 0.40060094, 0.42870293, 0.40580083,\n",
       "        0.51256399, 0.38927466, 0.45179275, 0.32522522, 0.99201901],\n",
       "       [0.01808664, 0.94888905, 0.50478652, 0.38729582, 0.81363785,\n",
       "        0.67570288, 0.70078861, 0.44737254, 0.12459605, 0.86540831],\n",
       "       [0.14304072, 0.62835891, 0.80141662, 0.95048722, 0.77971917,\n",
       "        0.39276705, 0.36701974, 0.55764924, 0.40084454, 0.81141644]])"
      ]
     },
     "execution_count": 16,
     "metadata": {},
     "output_type": "execute_result"
    }
   ],
   "source": [
    "ci = np.random.rand(10, iteration)\n",
    "ci"
   ]
  },
  {
   "cell_type": "code",
   "execution_count": 17,
   "id": "ad5e6876",
   "metadata": {
    "execution": {
     "iopub.execute_input": "2022-08-28T20:54:03.541290Z",
     "iopub.status.busy": "2022-08-28T20:54:03.540019Z",
     "iopub.status.idle": "2022-08-28T20:54:03.545456Z",
     "shell.execute_reply": "2022-08-28T20:54:03.544741Z"
    },
    "papermill": {
     "duration": 0.022353,
     "end_time": "2022-08-28T20:54:03.547677",
     "exception": false,
     "start_time": "2022-08-28T20:54:03.525324",
     "status": "completed"
    },
    "tags": []
   },
   "outputs": [],
   "source": [
    "alpha = 2*(1-ci)"
   ]
  },
  {
   "cell_type": "code",
   "execution_count": 18,
   "id": "e5ccb05c",
   "metadata": {
    "execution": {
     "iopub.execute_input": "2022-08-28T20:54:03.576011Z",
     "iopub.status.busy": "2022-08-28T20:54:03.575226Z",
     "iopub.status.idle": "2022-08-28T20:54:03.583172Z",
     "shell.execute_reply": "2022-08-28T20:54:03.582291Z"
    },
    "papermill": {
     "duration": 0.024837,
     "end_time": "2022-08-28T20:54:03.585408",
     "exception": false,
     "start_time": "2022-08-28T20:54:03.560571",
     "status": "completed"
    },
    "tags": []
   },
   "outputs": [
    {
     "data": {
      "text/plain": [
       "array([[1.27304201, 1.77168072, 1.69500202, 1.43196578, 1.17730754,\n",
       "        1.53399651, 0.32112574, 0.17518145, 0.39418087, 0.7872338 ],\n",
       "       [0.02592102, 0.67829969, 0.03332685, 0.76164573, 0.59158812,\n",
       "        0.36699118, 1.19328957, 1.08909254, 1.26401462, 1.50118706],\n",
       "       [0.9721167 , 1.81189601, 0.49326502, 1.21602916, 0.86946243,\n",
       "        1.89330493, 1.0701293 , 1.78840674, 1.786651  , 0.08061342],\n",
       "       [0.28014018, 1.09225406, 0.33080697, 1.08323645, 0.45454346,\n",
       "        1.11789759, 0.56677987, 1.20383521, 1.99637007, 1.99534399],\n",
       "       [0.49353843, 0.84263452, 0.07664821, 1.79117192, 0.05954681,\n",
       "        0.57422704, 1.03880327, 1.38127189, 1.86267271, 1.31502216],\n",
       "       [0.67584908, 0.30634519, 1.7527215 , 1.37044324, 1.5324919 ,\n",
       "        0.00853329, 1.50039357, 1.06863754, 0.14984204, 0.96463501],\n",
       "       [0.30071545, 1.31964059, 0.22102798, 0.45005037, 0.64968171,\n",
       "        0.72600507, 0.52195288, 1.52084576, 0.98432359, 1.65175359],\n",
       "       [1.77804256, 0.5940115 , 1.19879812, 1.14259414, 1.18839833,\n",
       "        0.97487201, 1.22145067, 1.0964145 , 1.34954956, 0.01596198],\n",
       "       [1.96382673, 0.10222189, 0.99042695, 1.22540837, 0.3727243 ,\n",
       "        0.64859425, 0.59842277, 1.10525493, 1.7508079 , 0.26918339],\n",
       "       [1.71391857, 0.74328217, 0.39716676, 0.09902557, 0.44056166,\n",
       "        1.21446589, 1.26596051, 0.88470152, 1.19831092, 0.37716712]])"
      ]
     },
     "execution_count": 18,
     "metadata": {},
     "output_type": "execute_result"
    }
   ],
   "source": [
    "alpha"
   ]
  },
  {
   "cell_type": "code",
   "execution_count": 19,
   "id": "837a5c33",
   "metadata": {
    "execution": {
     "iopub.execute_input": "2022-08-28T20:54:03.614225Z",
     "iopub.status.busy": "2022-08-28T20:54:03.613440Z",
     "iopub.status.idle": "2022-08-28T20:54:03.621350Z",
     "shell.execute_reply": "2022-08-28T20:54:03.620462Z"
    },
    "papermill": {
     "duration": 0.024795,
     "end_time": "2022-08-28T20:54:03.623584",
     "exception": false,
     "start_time": "2022-08-28T20:54:03.598789",
     "status": "completed"
    },
    "tags": []
   },
   "outputs": [
    {
     "data": {
      "text/plain": [
       "array([[-0.27304201, -0.77168072, -0.69500202, -0.43196578, -0.17730754,\n",
       "        -0.53399651,  0.67887426,  0.82481855,  0.60581913,  0.2127662 ],\n",
       "       [ 0.97407898,  0.32170031,  0.96667315,  0.23835427,  0.40841188,\n",
       "         0.63300882, -0.19328957, -0.08909254, -0.26401462, -0.50118706],\n",
       "       [ 0.0278833 , -0.81189601,  0.50673498, -0.21602916,  0.13053757,\n",
       "        -0.89330493, -0.0701293 , -0.78840674, -0.786651  ,  0.91938658],\n",
       "       [ 0.71985982, -0.09225406,  0.66919303, -0.08323645,  0.54545654,\n",
       "        -0.11789759,  0.43322013, -0.20383521, -0.99637007, -0.99534399],\n",
       "       [ 0.50646157,  0.15736548,  0.92335179, -0.79117192,  0.94045319,\n",
       "         0.42577296, -0.03880327, -0.38127189, -0.86267271, -0.31502216],\n",
       "       [ 0.32415092,  0.69365481, -0.7527215 , -0.37044324, -0.5324919 ,\n",
       "         0.99146671, -0.50039357, -0.06863754,  0.85015796,  0.03536499],\n",
       "       [ 0.69928455, -0.31964059,  0.77897202,  0.54994963,  0.35031829,\n",
       "         0.27399493,  0.47804712, -0.52084576,  0.01567641, -0.65175359],\n",
       "       [-0.77804256,  0.4059885 , -0.19879812, -0.14259414, -0.18839833,\n",
       "         0.02512799, -0.22145067, -0.0964145 , -0.34954956,  0.98403802],\n",
       "       [-0.96382673,  0.89777811,  0.00957305, -0.22540837,  0.6272757 ,\n",
       "         0.35140575,  0.40157723, -0.10525493, -0.7508079 ,  0.73081661],\n",
       "       [-0.71391857,  0.25671783,  0.60283324,  0.90097443,  0.55943834,\n",
       "        -0.21446589, -0.26596051,  0.11529848, -0.19831092,  0.62283288]])"
      ]
     },
     "execution_count": 19,
     "metadata": {},
     "output_type": "execute_result"
    }
   ],
   "source": [
    "civalue = 1-alpha\n",
    "civalue"
   ]
  },
  {
   "cell_type": "code",
   "execution_count": null,
   "id": "3a6ccf70",
   "metadata": {
    "papermill": {
     "duration": 0.012858,
     "end_time": "2022-08-28T20:54:03.649788",
     "exception": false,
     "start_time": "2022-08-28T20:54:03.636930",
     "status": "completed"
    },
    "tags": []
   },
   "outputs": [],
   "source": []
  },
  {
   "cell_type": "code",
   "execution_count": null,
   "id": "1ad51b73",
   "metadata": {
    "papermill": {
     "duration": 0.013163,
     "end_time": "2022-08-28T20:54:03.676541",
     "exception": false,
     "start_time": "2022-08-28T20:54:03.663378",
     "status": "completed"
    },
    "tags": []
   },
   "outputs": [],
   "source": []
  },
  {
   "cell_type": "markdown",
   "id": "f8ca6bdb",
   "metadata": {
    "papermill": {
     "duration": 0.013047,
     "end_time": "2022-08-28T20:54:03.703075",
     "exception": false,
     "start_time": "2022-08-28T20:54:03.690028",
     "status": "completed"
    },
    "tags": []
   },
   "source": [
    "### Claculating different z score using ppf(precentage point function) method from Scikit learn lib, used to create a standardised normal distribution. This enables me to create z score based on some random confident interval  "
   ]
  },
  {
   "cell_type": "code",
   "execution_count": 20,
   "id": "d072fc91",
   "metadata": {
    "execution": {
     "iopub.execute_input": "2022-08-28T20:54:03.732715Z",
     "iopub.status.busy": "2022-08-28T20:54:03.731964Z",
     "iopub.status.idle": "2022-08-28T20:54:03.740459Z",
     "shell.execute_reply": "2022-08-28T20:54:03.739386Z"
    },
    "papermill": {
     "duration": 0.025485,
     "end_time": "2022-08-28T20:54:03.742662",
     "exception": false,
     "start_time": "2022-08-28T20:54:03.717177",
     "status": "completed"
    },
    "tags": []
   },
   "outputs": [
    {
     "data": {
      "text/plain": [
       "array([[-0.34917493, -1.20469963, -1.0257743 , -0.570949  , -0.22408334,\n",
       "        -0.72899702,  0.99214717,  1.35574144,  0.85205986,  0.26990441],\n",
       "       [ 2.22739306,  0.41478447,  2.12812341,  0.30332036,  0.53653605,\n",
       "         0.90212365, -0.24467197, -0.11189399, -0.33717448, -0.67635869],\n",
       "       [ 0.03495365, -1.31620874,  0.68512504, -0.27414807,  0.16434136,\n",
       "        -1.61322759, -0.08800753, -1.24919637, -1.24440919,  1.74713789],\n",
       "       [ 1.0800045 , -0.11588215,  0.97248973, -0.10451136,  0.74786189,\n",
       "        -0.14830457,  0.57280036, -0.25831373, -2.9086498 , -2.82991659],\n",
       "       [ 0.68469179,  0.19852475,  1.770474  , -1.25679443,  1.88413429,\n",
       "         0.56183707, -0.04865188, -0.49765375, -1.48581791, -0.40567986],\n",
       "       [ 0.4181341 ,  1.02292103, -1.15698498, -0.48235081, -0.7265395 ,\n",
       "         2.63020713, -0.67510913, -0.08613077,  1.44008963,  0.04433797],\n",
       "       [ 1.03490035, -0.41197273,  1.22379922,  0.75533106,  0.45420441,\n",
       "         0.35044459,  0.64033801, -0.70766351,  0.01964872, -0.93799612],\n",
       "       [-1.22133967,  0.5330319 , -0.25179194, -0.17967737, -0.23836029,\n",
       "         0.03149847, -0.28121001, -0.12113324, -0.45313652,  2.40978383],\n",
       "       [-2.09497436,  1.63417603,  0.01199832, -0.28637407,  0.89138195,\n",
       "         0.45571595,  0.52667   , -0.13230245, -1.15231392,  1.10494508],\n",
       "       [-1.06675733,  0.32751001,  0.84669211,  1.64959612,  0.77124512,\n",
       "        -0.27211434, -0.33975706,  0.14501185, -0.25116173,  0.883128  ]])"
      ]
     },
     "execution_count": 20,
     "metadata": {},
     "output_type": "execute_result"
    }
   ],
   "source": [
    "z = norm.ppf(ci)\n",
    "z"
   ]
  },
  {
   "cell_type": "code",
   "execution_count": 21,
   "id": "4a351146",
   "metadata": {
    "execution": {
     "iopub.execute_input": "2022-08-28T20:54:03.771396Z",
     "iopub.status.busy": "2022-08-28T20:54:03.770617Z",
     "iopub.status.idle": "2022-08-28T20:54:03.779169Z",
     "shell.execute_reply": "2022-08-28T20:54:03.778071Z"
    },
    "papermill": {
     "duration": 0.025563,
     "end_time": "2022-08-28T20:54:03.781383",
     "exception": false,
     "start_time": "2022-08-28T20:54:03.755820",
     "status": "completed"
    },
    "tags": []
   },
   "outputs": [
    {
     "data": {
      "text/plain": [
       "array([[0.99977727, 0.99925615, 0.99936511, 0.99964215, 0.99985349,\n",
       "        0.99954588, 1.00059485, 1.00081659, 1.00050943, 1.00015454],\n",
       "       [1.00134836, 1.00024285, 1.00128779, 1.0001749 , 1.00031706,\n",
       "        1.00053996, 0.99984094, 0.99992185, 0.99978458, 0.99957794],\n",
       "       [1.00001134, 0.99918824, 1.00040765, 0.99982298, 1.0000902 ,\n",
       "        0.9990074 , 0.99993641, 0.99922905, 0.99923197, 1.00105534],\n",
       "       [1.00064842, 0.99991942, 1.00058286, 0.99992635, 1.0004459 ,\n",
       "        0.99989966, 1.00033917, 0.99983263, 0.99821904, 0.99826693],\n",
       "       [1.00040739, 1.00011103, 1.00106957, 0.99922442, 1.00113892,\n",
       "        1.00033249, 0.99996039, 0.99968681, 0.99908497, 0.99974284],\n",
       "       [1.00024489, 1.00061362, 0.9992852 , 0.99969613, 0.99954737,\n",
       "        1.00159421, 0.9995787 , 0.99993755, 1.00086803, 1.00001706],\n",
       "       [1.00062092, 0.99973901, 1.00073612, 1.00045045, 1.00026688,\n",
       "        1.00020363, 1.00038035, 0.99955887, 1.00000201, 0.99941857],\n",
       "       [0.99924601, 1.00031493, 0.9998366 , 0.99988055, 0.99984479,\n",
       "        1.00000923, 0.99981868, 0.99991622, 0.99971393, 1.00145967],\n",
       "       [0.99871415, 1.00098642, 0.99999735, 0.99981553, 1.00053341,\n",
       "        1.0002678 , 1.00031105, 0.99990941, 0.99928805, 1.00066363],\n",
       "       [0.99934015, 1.00018965, 1.00050616, 1.00099583, 1.00046016,\n",
       "        0.99982422, 0.99978301, 1.00007841, 0.99983699, 1.00052837]])"
      ]
     },
     "execution_count": 21,
     "metadata": {},
     "output_type": "execute_result"
    }
   ],
   "source": [
    "dailyreturns = np.exp(drift + (stdlr*z))\n",
    "dailyreturns"
   ]
  },
  {
   "cell_type": "code",
   "execution_count": null,
   "id": "fa1ef5d2",
   "metadata": {
    "papermill": {
     "duration": 0.012881,
     "end_time": "2022-08-28T20:54:03.807984",
     "exception": false,
     "start_time": "2022-08-28T20:54:03.795103",
     "status": "completed"
    },
    "tags": []
   },
   "outputs": [],
   "source": []
  },
  {
   "cell_type": "code",
   "execution_count": null,
   "id": "85fcdc74",
   "metadata": {
    "papermill": {
     "duration": 0.013006,
     "end_time": "2022-08-28T20:54:03.834396",
     "exception": false,
     "start_time": "2022-08-28T20:54:03.821390",
     "status": "completed"
    },
    "tags": []
   },
   "outputs": [],
   "source": []
  },
  {
   "cell_type": "code",
   "execution_count": 22,
   "id": "72480c02",
   "metadata": {
    "execution": {
     "iopub.execute_input": "2022-08-28T20:54:03.864255Z",
     "iopub.status.busy": "2022-08-28T20:54:03.863431Z",
     "iopub.status.idle": "2022-08-28T20:54:03.871185Z",
     "shell.execute_reply": "2022-08-28T20:54:03.870034Z"
    },
    "papermill": {
     "duration": 0.025392,
     "end_time": "2022-08-28T20:54:03.873534",
     "exception": false,
     "start_time": "2022-08-28T20:54:03.848142",
     "status": "completed"
    },
    "tags": []
   },
   "outputs": [
    {
     "data": {
      "text/plain": [
       "1.17989"
      ]
     },
     "execution_count": 22,
     "metadata": {},
     "output_type": "execute_result"
    }
   ],
   "source": [
    "p0 = data[\"CloseBid\"][1090]\n",
    "p0"
   ]
  },
  {
   "cell_type": "code",
   "execution_count": 23,
   "id": "13cb6c96",
   "metadata": {
    "execution": {
     "iopub.execute_input": "2022-08-28T20:54:03.903774Z",
     "iopub.status.busy": "2022-08-28T20:54:03.902979Z",
     "iopub.status.idle": "2022-08-28T20:54:03.911456Z",
     "shell.execute_reply": "2022-08-28T20:54:03.910474Z"
    },
    "papermill": {
     "duration": 0.026597,
     "end_time": "2022-08-28T20:54:03.913812",
     "exception": false,
     "start_time": "2022-08-28T20:54:03.887215",
     "status": "completed"
    },
    "tags": []
   },
   "outputs": [
    {
     "data": {
      "text/plain": [
       "array([[0., 0., 0., 0., 0., 0., 0., 0., 0., 0.],\n",
       "       [0., 0., 0., 0., 0., 0., 0., 0., 0., 0.],\n",
       "       [0., 0., 0., 0., 0., 0., 0., 0., 0., 0.],\n",
       "       [0., 0., 0., 0., 0., 0., 0., 0., 0., 0.],\n",
       "       [0., 0., 0., 0., 0., 0., 0., 0., 0., 0.],\n",
       "       [0., 0., 0., 0., 0., 0., 0., 0., 0., 0.],\n",
       "       [0., 0., 0., 0., 0., 0., 0., 0., 0., 0.],\n",
       "       [0., 0., 0., 0., 0., 0., 0., 0., 0., 0.],\n",
       "       [0., 0., 0., 0., 0., 0., 0., 0., 0., 0.],\n",
       "       [0., 0., 0., 0., 0., 0., 0., 0., 0., 0.]])"
      ]
     },
     "execution_count": 23,
     "metadata": {},
     "output_type": "execute_result"
    }
   ],
   "source": [
    "pricelist = np.zeros_like(dailyreturns)\n",
    "pricelist"
   ]
  },
  {
   "cell_type": "code",
   "execution_count": 24,
   "id": "53ee447f",
   "metadata": {
    "execution": {
     "iopub.execute_input": "2022-08-28T20:54:03.943315Z",
     "iopub.status.busy": "2022-08-28T20:54:03.942474Z",
     "iopub.status.idle": "2022-08-28T20:54:03.950978Z",
     "shell.execute_reply": "2022-08-28T20:54:03.949977Z"
    },
    "papermill": {
     "duration": 0.02611,
     "end_time": "2022-08-28T20:54:03.953389",
     "exception": false,
     "start_time": "2022-08-28T20:54:03.927279",
     "status": "completed"
    },
    "tags": []
   },
   "outputs": [
    {
     "data": {
      "text/plain": [
       "array([[1.17989, 1.17989, 1.17989, 1.17989, 1.17989, 1.17989, 1.17989,\n",
       "        1.17989, 1.17989, 1.17989],\n",
       "       [0.     , 0.     , 0.     , 0.     , 0.     , 0.     , 0.     ,\n",
       "        0.     , 0.     , 0.     ],\n",
       "       [0.     , 0.     , 0.     , 0.     , 0.     , 0.     , 0.     ,\n",
       "        0.     , 0.     , 0.     ],\n",
       "       [0.     , 0.     , 0.     , 0.     , 0.     , 0.     , 0.     ,\n",
       "        0.     , 0.     , 0.     ],\n",
       "       [0.     , 0.     , 0.     , 0.     , 0.     , 0.     , 0.     ,\n",
       "        0.     , 0.     , 0.     ],\n",
       "       [0.     , 0.     , 0.     , 0.     , 0.     , 0.     , 0.     ,\n",
       "        0.     , 0.     , 0.     ],\n",
       "       [0.     , 0.     , 0.     , 0.     , 0.     , 0.     , 0.     ,\n",
       "        0.     , 0.     , 0.     ],\n",
       "       [0.     , 0.     , 0.     , 0.     , 0.     , 0.     , 0.     ,\n",
       "        0.     , 0.     , 0.     ],\n",
       "       [0.     , 0.     , 0.     , 0.     , 0.     , 0.     , 0.     ,\n",
       "        0.     , 0.     , 0.     ],\n",
       "       [0.     , 0.     , 0.     , 0.     , 0.     , 0.     , 0.     ,\n",
       "        0.     , 0.     , 0.     ]])"
      ]
     },
     "execution_count": 24,
     "metadata": {},
     "output_type": "execute_result"
    }
   ],
   "source": [
    "pricelist[0] = p0\n",
    "pricelist"
   ]
  },
  {
   "cell_type": "code",
   "execution_count": 25,
   "id": "23c7b32b",
   "metadata": {
    "execution": {
     "iopub.execute_input": "2022-08-28T20:54:03.983552Z",
     "iopub.status.busy": "2022-08-28T20:54:03.983124Z",
     "iopub.status.idle": "2022-08-28T20:54:03.992106Z",
     "shell.execute_reply": "2022-08-28T20:54:03.991269Z"
    },
    "papermill": {
     "duration": 0.02673,
     "end_time": "2022-08-28T20:54:03.994332",
     "exception": false,
     "start_time": "2022-08-28T20:54:03.967602",
     "status": "completed"
    },
    "tags": []
   },
   "outputs": [
    {
     "data": {
      "text/plain": [
       "array([[1.17989   , 1.17989   , 1.17989   , 1.17989   , 1.17989   ,\n",
       "        1.17989   , 1.17989   , 1.17989   , 1.17989   , 1.17989   ],\n",
       "       [1.18148092, 1.18017653, 1.18140945, 1.18009637, 1.1802641 ,\n",
       "        1.18052709, 1.17970233, 1.17979779, 1.17963583, 1.17939202],\n",
       "       [1.18149432, 1.17921852, 1.18189105, 1.17988747, 1.18037056,\n",
       "        1.1793553 , 1.17962731, 1.17888823, 1.17872983, 1.18063667],\n",
       "       [1.18226043, 1.17912349, 1.18257993, 1.17980057, 1.18089688,\n",
       "        1.17923696, 1.18002741, 1.17869092, 1.17663055, 1.17859055],\n",
       "       [1.18274207, 1.17925441, 1.18384479, 1.17888554, 1.18224182,\n",
       "        1.17962905, 1.17998066, 1.17832176, 1.1755539 , 1.17828746],\n",
       "       [1.18303171, 1.17997802, 1.18299858, 1.17852732, 1.18170671,\n",
       "        1.18150962, 1.17948354, 1.17824817, 1.17657432, 1.17830757],\n",
       "       [1.18376627, 1.17967006, 1.1838694 , 1.17905819, 1.18202208,\n",
       "        1.18175021, 1.17993215, 1.17772842, 1.17657669, 1.17762247],\n",
       "       [1.18287373, 1.18004157, 1.18367596, 1.17891735, 1.18183862,\n",
       "        1.18176112, 1.17971821, 1.17762975, 1.1762401 , 1.17934141],\n",
       "       [1.18135273, 1.18120559, 1.18367283, 1.17869987, 1.18246902,\n",
       "        1.18207759, 1.18008516, 1.17752307, 1.17540268, 1.18012406],\n",
       "       [1.18057321, 1.1814296 , 1.18427195, 1.17987366, 1.18301314,\n",
       "        1.18186981, 1.17982909, 1.1776154 , 1.17521107, 1.18074761]])"
      ]
     },
     "execution_count": 25,
     "metadata": {},
     "output_type": "execute_result"
    }
   ],
   "source": [
    "for p in range(1, 10):\n",
    "    pricelist[p] = pricelist[p-1]*dailyreturns[p]\n",
    "pricelist"
   ]
  },
  {
   "cell_type": "code",
   "execution_count": 26,
   "id": "40314000",
   "metadata": {
    "execution": {
     "iopub.execute_input": "2022-08-28T20:54:04.024704Z",
     "iopub.status.busy": "2022-08-28T20:54:04.024278Z",
     "iopub.status.idle": "2022-08-28T20:54:04.251077Z",
     "shell.execute_reply": "2022-08-28T20:54:04.250024Z"
    },
    "papermill": {
     "duration": 0.245155,
     "end_time": "2022-08-28T20:54:04.253681",
     "exception": false,
     "start_time": "2022-08-28T20:54:04.008526",
     "status": "completed"
    },
    "tags": []
   },
   "outputs": [
    {
     "data": {
      "text/plain": [
       "[<matplotlib.lines.Line2D at 0x7f56e2041490>,\n",
       " <matplotlib.lines.Line2D at 0x7f56e2035750>,\n",
       " <matplotlib.lines.Line2D at 0x7f56e2041710>,\n",
       " <matplotlib.lines.Line2D at 0x7f56e2041810>,\n",
       " <matplotlib.lines.Line2D at 0x7f56e2035250>,\n",
       " <matplotlib.lines.Line2D at 0x7f56e2041950>,\n",
       " <matplotlib.lines.Line2D at 0x7f56e2041a90>,\n",
       " <matplotlib.lines.Line2D at 0x7f56e2041b90>,\n",
       " <matplotlib.lines.Line2D at 0x7f56e20352d0>,\n",
       " <matplotlib.lines.Line2D at 0x7f56e2041850>]"
      ]
     },
     "execution_count": 26,
     "metadata": {},
     "output_type": "execute_result"
    },
    {
     "data": {
      "image/png": "[encoded data removed]",
      "text/plain": [
       "<Figure size 720x432 with 1 Axes>"
      ]
     },
     "metadata": {
      "needs_background": "light"
     },
     "output_type": "display_data"
    }
   ],
   "source": [
    "plt.figure(figsize=(10,6))\n",
    "plt.plot(pricelist)"
   ]
  },
  {
   "cell_type": "code",
   "execution_count": 27,
   "id": "234dda49",
   "metadata": {
    "execution": {
     "iopub.execute_input": "2022-08-28T20:54:04.286323Z",
     "iopub.status.busy": "2022-08-28T20:54:04.285918Z",
     "iopub.status.idle": "2022-08-28T20:54:04.506481Z",
     "shell.execute_reply": "2022-08-28T20:54:04.505696Z"
    },
    "papermill": {
     "duration": 0.239593,
     "end_time": "2022-08-28T20:54:04.508610",
     "exception": false,
     "start_time": "2022-08-28T20:54:04.269017",
     "status": "completed"
    },
    "tags": []
   },
   "outputs": [
    {
     "data": {
      "text/plain": [
       "[<matplotlib.lines.Line2D at 0x7f56e1fc9d10>]"
      ]
     },
     "execution_count": 27,
     "metadata": {},
     "output_type": "execute_result"
    },
    {
     "data": {
      "image/png": "[encoded data removed]",
      "text/plain": [
       "<Figure size 720x432 with 1 Axes>"
      ]
     },
     "metadata": {
      "needs_background": "light"
     },
     "output_type": "display_data"
    }
   ],
   "source": [
    "plt.figure(figsize=(10,6))\n",
    "plt.plot(data[\"CloseBid\"])"
   ]
  },
  {
   "cell_type": "code",
   "execution_count": 28,
   "id": "1fe554ca",
   "metadata": {
    "execution": {
     "iopub.execute_input": "2022-08-28T20:54:04.543620Z",
     "iopub.status.busy": "2022-08-28T20:54:04.542581Z",
     "iopub.status.idle": "2022-08-28T20:54:04.559657Z",
     "shell.execute_reply": "2022-08-28T20:54:04.558891Z"
    },
    "papermill": {
     "duration": 0.036987,
     "end_time": "2022-08-28T20:54:04.561699",
     "exception": false,
     "start_time": "2022-08-28T20:54:04.524712",
     "status": "completed"
    },
    "tags": []
   },
   "outputs": [
    {
     "data": {
      "text/html": [
       "<div>\n",
       "<style scoped>\n",
       "    .dataframe tbody tr th:only-of-type {\n",
       "        vertical-align: middle;\n",
       "    }\n",
       "\n",
       "    .dataframe tbody tr th {\n",
       "        vertical-align: top;\n",
       "    }\n",
       "\n",
       "    .dataframe thead th {\n",
       "        text-align: right;\n",
       "    }\n",
       "</style>\n",
       "<table border=\"1\" class=\"dataframe\">\n",
       "  <thead>\n",
       "    <tr style=\"text-align: right;\">\n",
       "      <th></th>\n",
       "      <th>Date</th>\n",
       "      <th>Time</th>\n",
       "      <th>OpenBid</th>\n",
       "      <th>HighBid</th>\n",
       "      <th>LowBid</th>\n",
       "      <th>CloseBid</th>\n",
       "      <th>OpenAsk</th>\n",
       "      <th>HighAsk</th>\n",
       "      <th>LowAsk</th>\n",
       "      <th>CloseAsk</th>\n",
       "      <th>Total Ticks</th>\n",
       "      <th>log_returns</th>\n",
       "    </tr>\n",
       "  </thead>\n",
       "  <tbody>\n",
       "    <tr>\n",
       "      <th>1086</th>\n",
       "      <td>08/30/2021</td>\n",
       "      <td>01:00:00</td>\n",
       "      <td>1.18042</td>\n",
       "      <td>1.18075</td>\n",
       "      <td>1.18021</td>\n",
       "      <td>1.18058</td>\n",
       "      <td>1.18054</td>\n",
       "      <td>1.18088</td>\n",
       "      <td>1.18032</td>\n",
       "      <td>1.18069</td>\n",
       "      <td>4324</td>\n",
       "      <td>0.000136</td>\n",
       "    </tr>\n",
       "    <tr>\n",
       "      <th>1087</th>\n",
       "      <td>08/30/2021</td>\n",
       "      <td>02:00:00</td>\n",
       "      <td>1.18058</td>\n",
       "      <td>1.18094</td>\n",
       "      <td>1.18042</td>\n",
       "      <td>1.18050</td>\n",
       "      <td>1.18069</td>\n",
       "      <td>1.18106</td>\n",
       "      <td>1.18054</td>\n",
       "      <td>1.18062</td>\n",
       "      <td>4375</td>\n",
       "      <td>-0.000068</td>\n",
       "    </tr>\n",
       "    <tr>\n",
       "      <th>1088</th>\n",
       "      <td>08/30/2021</td>\n",
       "      <td>03:00:00</td>\n",
       "      <td>1.18050</td>\n",
       "      <td>1.18077</td>\n",
       "      <td>1.18019</td>\n",
       "      <td>1.18035</td>\n",
       "      <td>1.18062</td>\n",
       "      <td>1.18088</td>\n",
       "      <td>1.18032</td>\n",
       "      <td>1.18048</td>\n",
       "      <td>2453</td>\n",
       "      <td>-0.000127</td>\n",
       "    </tr>\n",
       "    <tr>\n",
       "      <th>1089</th>\n",
       "      <td>08/30/2021</td>\n",
       "      <td>04:00:00</td>\n",
       "      <td>1.18035</td>\n",
       "      <td>1.18067</td>\n",
       "      <td>1.18021</td>\n",
       "      <td>1.18031</td>\n",
       "      <td>1.18048</td>\n",
       "      <td>1.18079</td>\n",
       "      <td>1.18033</td>\n",
       "      <td>1.18043</td>\n",
       "      <td>1656</td>\n",
       "      <td>-0.000034</td>\n",
       "    </tr>\n",
       "    <tr>\n",
       "      <th>1090</th>\n",
       "      <td>08/30/2021</td>\n",
       "      <td>05:00:00</td>\n",
       "      <td>1.18031</td>\n",
       "      <td>1.18047</td>\n",
       "      <td>1.17987</td>\n",
       "      <td>1.17989</td>\n",
       "      <td>1.18043</td>\n",
       "      <td>1.18059</td>\n",
       "      <td>1.17999</td>\n",
       "      <td>1.18001</td>\n",
       "      <td>2317</td>\n",
       "      <td>-0.000356</td>\n",
       "    </tr>\n",
       "  </tbody>\n",
       "</table>\n",
       "</div>"
      ],
      "text/plain": [
       "            Date      Time  OpenBid  HighBid   LowBid  CloseBid  OpenAsk  \\\n",
       "1086  08/30/2021  01:00:00  1.18042  1.18075  1.18021   1.18058  1.18054   \n",
       "1087  08/30/2021  02:00:00  1.18058  1.18094  1.18042   1.18050  1.18069   \n",
       "1088  08/30/2021  03:00:00  1.18050  1.18077  1.18019   1.18035  1.18062   \n",
       "1089  08/30/2021  04:00:00  1.18035  1.18067  1.18021   1.18031  1.18048   \n",
       "1090  08/30/2021  05:00:00  1.18031  1.18047  1.17987   1.17989  1.18043   \n",
       "\n",
       "      HighAsk   LowAsk  CloseAsk  Total Ticks  log_returns  \n",
       "1086  1.18088  1.18032   1.18069         4324     0.000136  \n",
       "1087  1.18106  1.18054   1.18062         4375    -0.000068  \n",
       "1088  1.18088  1.18032   1.18048         2453    -0.000127  \n",
       "1089  1.18079  1.18033   1.18043         1656    -0.000034  \n",
       "1090  1.18059  1.17999   1.18001         2317    -0.000356  "
      ]
     },
     "execution_count": 28,
     "metadata": {},
     "output_type": "execute_result"
    }
   ],
   "source": [
    "data.tail()"
   ]
  },
  {
   "cell_type": "code",
   "execution_count": 29,
   "id": "738ff322",
   "metadata": {
    "execution": {
     "iopub.execute_input": "2022-08-28T20:54:04.596177Z",
     "iopub.status.busy": "2022-08-28T20:54:04.595141Z",
     "iopub.status.idle": "2022-08-28T20:54:04.602345Z",
     "shell.execute_reply": "2022-08-28T20:54:04.601616Z"
    },
    "papermill": {
     "duration": 0.026506,
     "end_time": "2022-08-28T20:54:04.604369",
     "exception": false,
     "start_time": "2022-08-28T20:54:04.577863",
     "status": "completed"
    },
    "tags": []
   },
   "outputs": [
    {
     "data": {
      "text/plain": [
       "array([[1.18148092, 1.18017653, 1.18140945, 1.18009637, 1.1802641 ,\n",
       "        1.18052709, 1.17970233, 1.17979779, 1.17963583, 1.17939202],\n",
       "       [1.18149432, 1.17921852, 1.18189105, 1.17988747, 1.18037056,\n",
       "        1.1793553 , 1.17962731, 1.17888823, 1.17872983, 1.18063667],\n",
       "       [1.18226043, 1.17912349, 1.18257993, 1.17980057, 1.18089688,\n",
       "        1.17923696, 1.18002741, 1.17869092, 1.17663055, 1.17859055],\n",
       "       [1.18274207, 1.17925441, 1.18384479, 1.17888554, 1.18224182,\n",
       "        1.17962905, 1.17998066, 1.17832176, 1.1755539 , 1.17828746],\n",
       "       [1.18303171, 1.17997802, 1.18299858, 1.17852732, 1.18170671,\n",
       "        1.18150962, 1.17948354, 1.17824817, 1.17657432, 1.17830757],\n",
       "       [1.18376627, 1.17967006, 1.1838694 , 1.17905819, 1.18202208,\n",
       "        1.18175021, 1.17993215, 1.17772842, 1.17657669, 1.17762247],\n",
       "       [1.18287373, 1.18004157, 1.18367596, 1.17891735, 1.18183862,\n",
       "        1.18176112, 1.17971821, 1.17762975, 1.1762401 , 1.17934141],\n",
       "       [1.18135273, 1.18120559, 1.18367283, 1.17869987, 1.18246902,\n",
       "        1.18207759, 1.18008516, 1.17752307, 1.17540268, 1.18012406],\n",
       "       [1.18057321, 1.1814296 , 1.18427195, 1.17987366, 1.18301314,\n",
       "        1.18186981, 1.17982909, 1.1776154 , 1.17521107, 1.18074761]])"
      ]
     },
     "execution_count": 29,
     "metadata": {},
     "output_type": "execute_result"
    }
   ],
   "source": [
    "pricelist[1:10]"
   ]
  },
  {
   "cell_type": "code",
   "execution_count": 30,
   "id": "b4bf2b5c",
   "metadata": {
    "execution": {
     "iopub.execute_input": "2022-08-28T20:54:04.638312Z",
     "iopub.status.busy": "2022-08-28T20:54:04.637615Z",
     "iopub.status.idle": "2022-08-28T20:54:04.644249Z",
     "shell.execute_reply": "2022-08-28T20:54:04.643552Z"
    },
    "papermill": {
     "duration": 0.025588,
     "end_time": "2022-08-28T20:54:04.646126",
     "exception": false,
     "start_time": "2022-08-28T20:54:04.620538",
     "status": "completed"
    },
    "tags": []
   },
   "outputs": [
    {
     "data": {
      "text/plain": [
       "array([[1.17989   , 1.17989   , 1.17989   , 1.17989   , 1.17989   ,\n",
       "        1.17989   , 1.17989   , 1.17989   , 1.17989   , 1.17989   ],\n",
       "       [1.18148092, 1.18017653, 1.18140945, 1.18009637, 1.1802641 ,\n",
       "        1.18052709, 1.17970233, 1.17979779, 1.17963583, 1.17939202],\n",
       "       [1.18149432, 1.17921852, 1.18189105, 1.17988747, 1.18037056,\n",
       "        1.1793553 , 1.17962731, 1.17888823, 1.17872983, 1.18063667],\n",
       "       [1.18226043, 1.17912349, 1.18257993, 1.17980057, 1.18089688,\n",
       "        1.17923696, 1.18002741, 1.17869092, 1.17663055, 1.17859055],\n",
       "       [1.18274207, 1.17925441, 1.18384479, 1.17888554, 1.18224182,\n",
       "        1.17962905, 1.17998066, 1.17832176, 1.1755539 , 1.17828746],\n",
       "       [1.18303171, 1.17997802, 1.18299858, 1.17852732, 1.18170671,\n",
       "        1.18150962, 1.17948354, 1.17824817, 1.17657432, 1.17830757],\n",
       "       [1.18376627, 1.17967006, 1.1838694 , 1.17905819, 1.18202208,\n",
       "        1.18175021, 1.17993215, 1.17772842, 1.17657669, 1.17762247],\n",
       "       [1.18287373, 1.18004157, 1.18367596, 1.17891735, 1.18183862,\n",
       "        1.18176112, 1.17971821, 1.17762975, 1.1762401 , 1.17934141],\n",
       "       [1.18135273, 1.18120559, 1.18367283, 1.17869987, 1.18246902,\n",
       "        1.18207759, 1.18008516, 1.17752307, 1.17540268, 1.18012406],\n",
       "       [1.18057321, 1.1814296 , 1.18427195, 1.17987366, 1.18301314,\n",
       "        1.18186981, 1.17982909, 1.1776154 , 1.17521107, 1.18074761]])"
      ]
     },
     "execution_count": 30,
     "metadata": {},
     "output_type": "execute_result"
    }
   ],
   "source": [
    "pricelist"
   ]
  },
  {
   "cell_type": "code",
   "execution_count": 31,
   "id": "7907ce73",
   "metadata": {
    "execution": {
     "iopub.execute_input": "2022-08-28T20:54:04.680269Z",
     "iopub.status.busy": "2022-08-28T20:54:04.679575Z",
     "iopub.status.idle": "2022-08-28T20:54:04.686792Z",
     "shell.execute_reply": "2022-08-28T20:54:04.685836Z"
    },
    "papermill": {
     "duration": 0.026993,
     "end_time": "2022-08-28T20:54:04.688981",
     "exception": false,
     "start_time": "2022-08-28T20:54:04.661988",
     "status": "completed"
    },
    "tags": []
   },
   "outputs": [
    {
     "data": {
      "text/plain": [
       "array([[0.99977727, 0.99925615, 0.99936511, 0.99964215, 0.99985349,\n",
       "        0.99954588, 1.00059485, 1.00081659, 1.00050943, 1.00015454],\n",
       "       [1.00134836, 1.00024285, 1.00128779, 1.0001749 , 1.00031706,\n",
       "        1.00053996, 0.99984094, 0.99992185, 0.99978458, 0.99957794],\n",
       "       [1.00001134, 0.99918824, 1.00040765, 0.99982298, 1.0000902 ,\n",
       "        0.9990074 , 0.99993641, 0.99922905, 0.99923197, 1.00105534],\n",
       "       [1.00064842, 0.99991942, 1.00058286, 0.99992635, 1.0004459 ,\n",
       "        0.99989966, 1.00033917, 0.99983263, 0.99821904, 0.99826693],\n",
       "       [1.00040739, 1.00011103, 1.00106957, 0.99922442, 1.00113892,\n",
       "        1.00033249, 0.99996039, 0.99968681, 0.99908497, 0.99974284],\n",
       "       [1.00024489, 1.00061362, 0.9992852 , 0.99969613, 0.99954737,\n",
       "        1.00159421, 0.9995787 , 0.99993755, 1.00086803, 1.00001706],\n",
       "       [1.00062092, 0.99973901, 1.00073612, 1.00045045, 1.00026688,\n",
       "        1.00020363, 1.00038035, 0.99955887, 1.00000201, 0.99941857],\n",
       "       [0.99924601, 1.00031493, 0.9998366 , 0.99988055, 0.99984479,\n",
       "        1.00000923, 0.99981868, 0.99991622, 0.99971393, 1.00145967],\n",
       "       [0.99871415, 1.00098642, 0.99999735, 0.99981553, 1.00053341,\n",
       "        1.0002678 , 1.00031105, 0.99990941, 0.99928805, 1.00066363],\n",
       "       [0.99934015, 1.00018965, 1.00050616, 1.00099583, 1.00046016,\n",
       "        0.99982422, 0.99978301, 1.00007841, 0.99983699, 1.00052837]])"
      ]
     },
     "execution_count": 31,
     "metadata": {},
     "output_type": "execute_result"
    }
   ],
   "source": [
    "dailyreturns"
   ]
  },
  {
   "cell_type": "code",
   "execution_count": 32,
   "id": "daeae03f",
   "metadata": {
    "execution": {
     "iopub.execute_input": "2022-08-28T20:54:04.724727Z",
     "iopub.status.busy": "2022-08-28T20:54:04.723998Z",
     "iopub.status.idle": "2022-08-28T20:54:04.730288Z",
     "shell.execute_reply": "2022-08-28T20:54:04.729562Z"
    },
    "papermill": {
     "duration": 0.026544,
     "end_time": "2022-08-28T20:54:04.732336",
     "exception": false,
     "start_time": "2022-08-28T20:54:04.705792",
     "status": "completed"
    },
    "tags": []
   },
   "outputs": [
    {
     "data": {
      "text/plain": [
       "array([1.18148092, 1.18017653, 1.18140945, 1.18009637, 1.1802641 ,\n",
       "       1.18052709, 1.17970233, 1.17979779, 1.17963583, 1.17939202])"
      ]
     },
     "execution_count": 32,
     "metadata": {},
     "output_type": "execute_result"
    }
   ],
   "source": [
    "x1 = pricelist[0]*dailyreturns[1]\n",
    "x1"
   ]
  },
  {
   "cell_type": "code",
   "execution_count": 33,
   "id": "fd2d1de8",
   "metadata": {
    "execution": {
     "iopub.execute_input": "2022-08-28T20:54:04.767404Z",
     "iopub.status.busy": "2022-08-28T20:54:04.766729Z",
     "iopub.status.idle": "2022-08-28T20:54:04.771324Z",
     "shell.execute_reply": "2022-08-28T20:54:04.770621Z"
    },
    "papermill": {
     "duration": 0.024406,
     "end_time": "2022-08-28T20:54:04.773321",
     "exception": false,
     "start_time": "2022-08-28T20:54:04.748915",
     "status": "completed"
    },
    "tags": []
   },
   "outputs": [],
   "source": [
    "for x in range(1,10):\n",
    "    pricelist[x] = pricelist[x-1]*dailyreturns[x]"
   ]
  },
  {
   "cell_type": "code",
   "execution_count": 34,
   "id": "bfaa1afe",
   "metadata": {
    "execution": {
     "iopub.execute_input": "2022-08-28T20:54:04.808830Z",
     "iopub.status.busy": "2022-08-28T20:54:04.808082Z",
     "iopub.status.idle": "2022-08-28T20:54:04.815404Z",
     "shell.execute_reply": "2022-08-28T20:54:04.814375Z"
    },
    "papermill": {
     "duration": 0.027269,
     "end_time": "2022-08-28T20:54:04.817433",
     "exception": false,
     "start_time": "2022-08-28T20:54:04.790164",
     "status": "completed"
    },
    "tags": []
   },
   "outputs": [
    {
     "data": {
      "text/plain": [
       "array([[1.17989   , 1.17989   , 1.17989   , 1.17989   , 1.17989   ,\n",
       "        1.17989   , 1.17989   , 1.17989   , 1.17989   , 1.17989   ],\n",
       "       [1.18148092, 1.18017653, 1.18140945, 1.18009637, 1.1802641 ,\n",
       "        1.18052709, 1.17970233, 1.17979779, 1.17963583, 1.17939202],\n",
       "       [1.18149432, 1.17921852, 1.18189105, 1.17988747, 1.18037056,\n",
       "        1.1793553 , 1.17962731, 1.17888823, 1.17872983, 1.18063667],\n",
       "       [1.18226043, 1.17912349, 1.18257993, 1.17980057, 1.18089688,\n",
       "        1.17923696, 1.18002741, 1.17869092, 1.17663055, 1.17859055],\n",
       "       [1.18274207, 1.17925441, 1.18384479, 1.17888554, 1.18224182,\n",
       "        1.17962905, 1.17998066, 1.17832176, 1.1755539 , 1.17828746],\n",
       "       [1.18303171, 1.17997802, 1.18299858, 1.17852732, 1.18170671,\n",
       "        1.18150962, 1.17948354, 1.17824817, 1.17657432, 1.17830757],\n",
       "       [1.18376627, 1.17967006, 1.1838694 , 1.17905819, 1.18202208,\n",
       "        1.18175021, 1.17993215, 1.17772842, 1.17657669, 1.17762247],\n",
       "       [1.18287373, 1.18004157, 1.18367596, 1.17891735, 1.18183862,\n",
       "        1.18176112, 1.17971821, 1.17762975, 1.1762401 , 1.17934141],\n",
       "       [1.18135273, 1.18120559, 1.18367283, 1.17869987, 1.18246902,\n",
       "        1.18207759, 1.18008516, 1.17752307, 1.17540268, 1.18012406],\n",
       "       [1.18057321, 1.1814296 , 1.18427195, 1.17987366, 1.18301314,\n",
       "        1.18186981, 1.17982909, 1.1776154 , 1.17521107, 1.18074761]])"
      ]
     },
     "execution_count": 34,
     "metadata": {},
     "output_type": "execute_result"
    }
   ],
   "source": [
    "pricelist"
   ]
  },
  {
   "cell_type": "code",
   "execution_count": 35,
   "id": "da11bec8",
   "metadata": {
    "execution": {
     "iopub.execute_input": "2022-08-28T20:54:04.852768Z",
     "iopub.status.busy": "2022-08-28T20:54:04.852341Z",
     "iopub.status.idle": "2022-08-28T20:54:04.875069Z",
     "shell.execute_reply": "2022-08-28T20:54:04.874200Z"
    },
    "papermill": {
     "duration": 0.043368,
     "end_time": "2022-08-28T20:54:04.877308",
     "exception": false,
     "start_time": "2022-08-28T20:54:04.833940",
     "status": "completed"
    },
    "tags": []
   },
   "outputs": [
    {
     "data": {
      "text/html": [
       "<div>\n",
       "<style scoped>\n",
       "    .dataframe tbody tr th:only-of-type {\n",
       "        vertical-align: middle;\n",
       "    }\n",
       "\n",
       "    .dataframe tbody tr th {\n",
       "        vertical-align: top;\n",
       "    }\n",
       "\n",
       "    .dataframe thead th {\n",
       "        text-align: right;\n",
       "    }\n",
       "</style>\n",
       "<table border=\"1\" class=\"dataframe\">\n",
       "  <thead>\n",
       "    <tr style=\"text-align: right;\">\n",
       "      <th></th>\n",
       "      <th>Date</th>\n",
       "      <th>Time</th>\n",
       "      <th>OpenBid</th>\n",
       "      <th>HighBid</th>\n",
       "      <th>LowBid</th>\n",
       "      <th>CloseBid</th>\n",
       "      <th>OpenAsk</th>\n",
       "      <th>HighAsk</th>\n",
       "      <th>LowAsk</th>\n",
       "      <th>CloseAsk</th>\n",
       "      <th>Total Ticks</th>\n",
       "    </tr>\n",
       "  </thead>\n",
       "  <tbody>\n",
       "    <tr>\n",
       "      <th>0</th>\n",
       "      <td>08/02/2021</td>\n",
       "      <td>21:00:00</td>\n",
       "      <td>1.18660</td>\n",
       "      <td>1.18929</td>\n",
       "      <td>1.18530</td>\n",
       "      <td>1.18628</td>\n",
       "      <td>1.18723</td>\n",
       "      <td>1.18940</td>\n",
       "      <td>1.18542</td>\n",
       "      <td>1.18664</td>\n",
       "      <td>158204</td>\n",
       "    </tr>\n",
       "    <tr>\n",
       "      <th>1</th>\n",
       "      <td>08/03/2021</td>\n",
       "      <td>21:00:00</td>\n",
       "      <td>1.18628</td>\n",
       "      <td>1.18992</td>\n",
       "      <td>1.18321</td>\n",
       "      <td>1.18361</td>\n",
       "      <td>1.18664</td>\n",
       "      <td>1.19004</td>\n",
       "      <td>1.18334</td>\n",
       "      <td>1.18377</td>\n",
       "      <td>172577</td>\n",
       "    </tr>\n",
       "    <tr>\n",
       "      <th>2</th>\n",
       "      <td>08/04/2021</td>\n",
       "      <td>21:00:00</td>\n",
       "      <td>1.18361</td>\n",
       "      <td>1.18568</td>\n",
       "      <td>1.18277</td>\n",
       "      <td>1.18315</td>\n",
       "      <td>1.18377</td>\n",
       "      <td>1.18580</td>\n",
       "      <td>1.18288</td>\n",
       "      <td>1.18365</td>\n",
       "      <td>147869</td>\n",
       "    </tr>\n",
       "    <tr>\n",
       "      <th>3</th>\n",
       "      <td>08/05/2021</td>\n",
       "      <td>21:00:00</td>\n",
       "      <td>1.18315</td>\n",
       "      <td>1.18349</td>\n",
       "      <td>1.17537</td>\n",
       "      <td>1.17582</td>\n",
       "      <td>1.18365</td>\n",
       "      <td>1.18389</td>\n",
       "      <td>1.17549</td>\n",
       "      <td>1.17646</td>\n",
       "      <td>172508</td>\n",
       "    </tr>\n",
       "  </tbody>\n",
       "</table>\n",
       "</div>"
      ],
      "text/plain": [
       "         Date      Time  OpenBid  HighBid   LowBid  CloseBid  OpenAsk  \\\n",
       "0  08/02/2021  21:00:00  1.18660  1.18929  1.18530   1.18628  1.18723   \n",
       "1  08/03/2021  21:00:00  1.18628  1.18992  1.18321   1.18361  1.18664   \n",
       "2  08/04/2021  21:00:00  1.18361  1.18568  1.18277   1.18315  1.18377   \n",
       "3  08/05/2021  21:00:00  1.18315  1.18349  1.17537   1.17582  1.18365   \n",
       "\n",
       "   HighAsk   LowAsk  CloseAsk  Total Ticks  \n",
       "0  1.18940  1.18542   1.18664       158204  \n",
       "1  1.19004  1.18334   1.18377       172577  \n",
       "2  1.18580  1.18288   1.18365       147869  \n",
       "3  1.18389  1.17549   1.17646       172508  "
      ]
     },
     "execution_count": 35,
     "metadata": {},
     "output_type": "execute_result"
    }
   ],
   "source": [
    "augpr = pd.read_csv(\"../input/eurousd-currency-data/EURUSD_aug_BidAndAsk.csv\")\n",
    "augpr"
   ]
  },
  {
   "cell_type": "code",
   "execution_count": null,
   "id": "9dceea1a",
   "metadata": {
    "papermill": {
     "duration": 0.01728,
     "end_time": "2022-08-28T20:54:04.912055",
     "exception": false,
     "start_time": "2022-08-28T20:54:04.894775",
     "status": "completed"
    },
    "tags": []
   },
   "outputs": [],
   "source": []
  },
  {
   "cell_type": "code",
   "execution_count": null,
   "id": "2b47e5e7",
   "metadata": {
    "papermill": {
     "duration": 0.017147,
     "end_time": "2022-08-28T20:54:04.946888",
     "exception": false,
     "start_time": "2022-08-28T20:54:04.929741",
     "status": "completed"
    },
    "tags": []
   },
   "outputs": [],
   "source": []
  },
  {
   "cell_type": "code",
   "execution_count": null,
   "id": "7428c680",
   "metadata": {
    "papermill": {
     "duration": 0.017339,
     "end_time": "2022-08-28T20:54:04.981735",
     "exception": false,
     "start_time": "2022-08-28T20:54:04.964396",
     "status": "completed"
    },
    "tags": []
   },
   "outputs": [],
   "source": []
  }
 ],
 "metadata": {
  "kernelspec": {
   "display_name": "Python 3",
   "language": "python",
   "name": "python3"
  },
  "language_info": {
   "codemirror_mode": {
    "name": "ipython",
    "version": 3
   },
   "file_extension": ".py",
   "mimetype": "text/x-python",
   "name": "python",
   "nbconvert_exporter": "python",
   "pygments_lexer": "ipython3",
   "version": "3.7.12"
  },
  "papermill": {
   "default_parameters": {},
   "duration": 21.193645,
   "end_time": "2022-08-28T20:54:08.543235",
   "environment_variables": {},
   "exception": null,
   "input_path": "__notebook__.ipynb",
   "output_path": "__notebook__.ipynb",
   "parameters": {},
   "start_time": "2022-08-28T20:53:47.349590",
   "version": "2.3.4"
  }
 },
 "nbformat": 4,
 "nbformat_minor": 5
}
